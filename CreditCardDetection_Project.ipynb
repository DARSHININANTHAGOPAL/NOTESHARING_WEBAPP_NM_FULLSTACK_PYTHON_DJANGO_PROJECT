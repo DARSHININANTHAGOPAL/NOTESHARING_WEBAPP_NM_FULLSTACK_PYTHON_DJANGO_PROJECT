{
  "cells": [
    {
      "cell_type": "markdown",
      "metadata": {
        "id": "view-in-github",
        "colab_type": "text"
      },
      "source": [
        "<a href=\"https://colab.research.google.com/github/DARSHININANTHAGOPAL/NOTESHARING_WEBAPP_NM_FULLSTACK_PYTHON_DJANGO_PROJECT/blob/main/CreditCardDetection_Project.ipynb\" target=\"_parent\"><img src=\"https://colab.research.google.com/assets/colab-badge.svg\" alt=\"Open In Colab\"/></a>"
      ]
    },
    {
      "cell_type": "code",
      "execution_count": null,
      "id": "6d741659",
      "metadata": {
        "id": "6d741659"
      },
      "outputs": [],
      "source": [
        "# Data Wrangling\n",
        "import pandas as pd\n",
        "import numpy as np\n",
        "\n",
        "#Statistics / Logistic Regression\n",
        "import statsmodels.api as sm\n",
        "import statsmodels.formula.api as smf\n",
        "from sklearn.linear_model import LogisticRegression\n",
        "from scipy import stats\n",
        "\n",
        "#Cross Validation\n",
        "from sklearn.model_selection import train_test_split\n",
        "from sklearn.model_selection import cross_val_score\n",
        "from sklearn.model_selection import KFold\n",
        "\n",
        "#Confusion Matrix\n",
        "from sklearn.metrics import confusion_matrix\n",
        "\n",
        "#Plotting\n",
        "import matplotlib as mpl\n",
        "import matplotlib.pyplot as plt\n",
        "import seaborn as sns\n",
        "\n",
        "#Trees\n",
        "from sklearn import tree\n",
        "from sklearn.ensemble import BaggingClassifier\n",
        "from sklearn.ensemble import RandomForestClassifier\n",
        "\n",
        "#Scores\n",
        "from sklearn.metrics import accuracy_score, precision_score, recall_score\n",
        "\n",
        "#Model turning\n",
        "from sklearn.model_selection import GridSearchCV\n",
        "\n",
        "RANDOM_STATE=42\n",
        "%matplotlib inline"
      ]
    },
    {
      "cell_type": "code",
      "execution_count": null,
      "id": "df03e5f9",
      "metadata": {
        "id": "df03e5f9",
        "outputId": "48c1bcbb-d9b7-44c3-874f-bf953bb3ea7b"
      },
      "outputs": [
        {
          "data": {
            "text/html": [
              "<div>\n",
              "<style scoped>\n",
              "    .dataframe tbody tr th:only-of-type {\n",
              "        vertical-align: middle;\n",
              "    }\n",
              "\n",
              "    .dataframe tbody tr th {\n",
              "        vertical-align: top;\n",
              "    }\n",
              "\n",
              "    .dataframe thead th {\n",
              "        text-align: right;\n",
              "    }\n",
              "</style>\n",
              "<table border=\"1\" class=\"dataframe\">\n",
              "  <thead>\n",
              "    <tr style=\"text-align: right;\">\n",
              "      <th></th>\n",
              "      <th>id</th>\n",
              "      <th>V1</th>\n",
              "      <th>V2</th>\n",
              "      <th>V3</th>\n",
              "      <th>V4</th>\n",
              "      <th>V5</th>\n",
              "      <th>V6</th>\n",
              "      <th>V7</th>\n",
              "      <th>V8</th>\n",
              "      <th>V9</th>\n",
              "      <th>...</th>\n",
              "      <th>V21</th>\n",
              "      <th>V22</th>\n",
              "      <th>V23</th>\n",
              "      <th>V24</th>\n",
              "      <th>V25</th>\n",
              "      <th>V26</th>\n",
              "      <th>V27</th>\n",
              "      <th>V28</th>\n",
              "      <th>Amount</th>\n",
              "      <th>Class</th>\n",
              "    </tr>\n",
              "  </thead>\n",
              "  <tbody>\n",
              "    <tr>\n",
              "      <th>0</th>\n",
              "      <td>0</td>\n",
              "      <td>-0.260648</td>\n",
              "      <td>-0.469648</td>\n",
              "      <td>2.496266</td>\n",
              "      <td>-0.083724</td>\n",
              "      <td>0.129681</td>\n",
              "      <td>0.732898</td>\n",
              "      <td>0.519014</td>\n",
              "      <td>-0.130006</td>\n",
              "      <td>0.727159</td>\n",
              "      <td>...</td>\n",
              "      <td>-0.110552</td>\n",
              "      <td>0.217606</td>\n",
              "      <td>-0.134794</td>\n",
              "      <td>0.165959</td>\n",
              "      <td>0.126280</td>\n",
              "      <td>-0.434824</td>\n",
              "      <td>-0.081230</td>\n",
              "      <td>-0.151045</td>\n",
              "      <td>17982.10</td>\n",
              "      <td>0</td>\n",
              "    </tr>\n",
              "    <tr>\n",
              "      <th>1</th>\n",
              "      <td>1</td>\n",
              "      <td>0.985100</td>\n",
              "      <td>-0.356045</td>\n",
              "      <td>0.558056</td>\n",
              "      <td>-0.429654</td>\n",
              "      <td>0.277140</td>\n",
              "      <td>0.428605</td>\n",
              "      <td>0.406466</td>\n",
              "      <td>-0.133118</td>\n",
              "      <td>0.347452</td>\n",
              "      <td>...</td>\n",
              "      <td>-0.194936</td>\n",
              "      <td>-0.605761</td>\n",
              "      <td>0.079469</td>\n",
              "      <td>-0.577395</td>\n",
              "      <td>0.190090</td>\n",
              "      <td>0.296503</td>\n",
              "      <td>-0.248052</td>\n",
              "      <td>-0.064512</td>\n",
              "      <td>6531.37</td>\n",
              "      <td>0</td>\n",
              "    </tr>\n",
              "    <tr>\n",
              "      <th>2</th>\n",
              "      <td>2</td>\n",
              "      <td>-0.260272</td>\n",
              "      <td>-0.949385</td>\n",
              "      <td>1.728538</td>\n",
              "      <td>-0.457986</td>\n",
              "      <td>0.074062</td>\n",
              "      <td>1.419481</td>\n",
              "      <td>0.743511</td>\n",
              "      <td>-0.095576</td>\n",
              "      <td>-0.261297</td>\n",
              "      <td>...</td>\n",
              "      <td>-0.005020</td>\n",
              "      <td>0.702906</td>\n",
              "      <td>0.945045</td>\n",
              "      <td>-1.154666</td>\n",
              "      <td>-0.605564</td>\n",
              "      <td>-0.312895</td>\n",
              "      <td>-0.300258</td>\n",
              "      <td>-0.244718</td>\n",
              "      <td>2513.54</td>\n",
              "      <td>0</td>\n",
              "    </tr>\n",
              "    <tr>\n",
              "      <th>3</th>\n",
              "      <td>3</td>\n",
              "      <td>-0.152152</td>\n",
              "      <td>-0.508959</td>\n",
              "      <td>1.746840</td>\n",
              "      <td>-1.090178</td>\n",
              "      <td>0.249486</td>\n",
              "      <td>1.143312</td>\n",
              "      <td>0.518269</td>\n",
              "      <td>-0.065130</td>\n",
              "      <td>-0.205698</td>\n",
              "      <td>...</td>\n",
              "      <td>-0.146927</td>\n",
              "      <td>-0.038212</td>\n",
              "      <td>-0.214048</td>\n",
              "      <td>-1.893131</td>\n",
              "      <td>1.003963</td>\n",
              "      <td>-0.515950</td>\n",
              "      <td>-0.165316</td>\n",
              "      <td>0.048424</td>\n",
              "      <td>5384.44</td>\n",
              "      <td>0</td>\n",
              "    </tr>\n",
              "    <tr>\n",
              "      <th>4</th>\n",
              "      <td>4</td>\n",
              "      <td>-0.206820</td>\n",
              "      <td>-0.165280</td>\n",
              "      <td>1.527053</td>\n",
              "      <td>-0.448293</td>\n",
              "      <td>0.106125</td>\n",
              "      <td>0.530549</td>\n",
              "      <td>0.658849</td>\n",
              "      <td>-0.212660</td>\n",
              "      <td>1.049921</td>\n",
              "      <td>...</td>\n",
              "      <td>-0.106984</td>\n",
              "      <td>0.729727</td>\n",
              "      <td>-0.161666</td>\n",
              "      <td>0.312561</td>\n",
              "      <td>-0.414116</td>\n",
              "      <td>1.071126</td>\n",
              "      <td>0.023712</td>\n",
              "      <td>0.419117</td>\n",
              "      <td>14278.97</td>\n",
              "      <td>0</td>\n",
              "    </tr>\n",
              "  </tbody>\n",
              "</table>\n",
              "<p>5 rows × 31 columns</p>\n",
              "</div>"
            ],
            "text/plain": [
              "   id        V1        V2        V3        V4        V5        V6        V7  \\\n",
              "0   0 -0.260648 -0.469648  2.496266 -0.083724  0.129681  0.732898  0.519014   \n",
              "1   1  0.985100 -0.356045  0.558056 -0.429654  0.277140  0.428605  0.406466   \n",
              "2   2 -0.260272 -0.949385  1.728538 -0.457986  0.074062  1.419481  0.743511   \n",
              "3   3 -0.152152 -0.508959  1.746840 -1.090178  0.249486  1.143312  0.518269   \n",
              "4   4 -0.206820 -0.165280  1.527053 -0.448293  0.106125  0.530549  0.658849   \n",
              "\n",
              "         V8        V9  ...       V21       V22       V23       V24       V25  \\\n",
              "0 -0.130006  0.727159  ... -0.110552  0.217606 -0.134794  0.165959  0.126280   \n",
              "1 -0.133118  0.347452  ... -0.194936 -0.605761  0.079469 -0.577395  0.190090   \n",
              "2 -0.095576 -0.261297  ... -0.005020  0.702906  0.945045 -1.154666 -0.605564   \n",
              "3 -0.065130 -0.205698  ... -0.146927 -0.038212 -0.214048 -1.893131  1.003963   \n",
              "4 -0.212660  1.049921  ... -0.106984  0.729727 -0.161666  0.312561 -0.414116   \n",
              "\n",
              "        V26       V27       V28    Amount  Class  \n",
              "0 -0.434824 -0.081230 -0.151045  17982.10      0  \n",
              "1  0.296503 -0.248052 -0.064512   6531.37      0  \n",
              "2 -0.312895 -0.300258 -0.244718   2513.54      0  \n",
              "3 -0.515950 -0.165316  0.048424   5384.44      0  \n",
              "4  1.071126  0.023712  0.419117  14278.97      0  \n",
              "\n",
              "[5 rows x 31 columns]"
            ]
          },
          "execution_count": 2,
          "metadata": {},
          "output_type": "execute_result"
        }
      ],
      "source": [
        "credit_original_data = pd.read_csv(\"creditcard_2023.csv\")\n",
        "credit_original_data.head()"
      ]
    },
    {
      "cell_type": "code",
      "execution_count": null,
      "id": "96c2805a",
      "metadata": {
        "id": "96c2805a",
        "outputId": "b4ece469-6259-49cb-d728-580a4856a5b2"
      },
      "outputs": [
        {
          "name": "stdout",
          "output_type": "stream",
          "text": [
            "<class 'pandas.core.frame.DataFrame'>\n",
            "RangeIndex: 568630 entries, 0 to 568629\n",
            "Data columns (total 31 columns):\n",
            " #   Column  Non-Null Count   Dtype  \n",
            "---  ------  --------------   -----  \n",
            " 0   id      568630 non-null  int64  \n",
            " 1   V1      568630 non-null  float64\n",
            " 2   V2      568630 non-null  float64\n",
            " 3   V3      568630 non-null  float64\n",
            " 4   V4      568630 non-null  float64\n",
            " 5   V5      568630 non-null  float64\n",
            " 6   V6      568630 non-null  float64\n",
            " 7   V7      568630 non-null  float64\n",
            " 8   V8      568630 non-null  float64\n",
            " 9   V9      568630 non-null  float64\n",
            " 10  V10     568630 non-null  float64\n",
            " 11  V11     568630 non-null  float64\n",
            " 12  V12     568630 non-null  float64\n",
            " 13  V13     568630 non-null  float64\n",
            " 14  V14     568630 non-null  float64\n",
            " 15  V15     568630 non-null  float64\n",
            " 16  V16     568630 non-null  float64\n",
            " 17  V17     568630 non-null  float64\n",
            " 18  V18     568630 non-null  float64\n",
            " 19  V19     568630 non-null  float64\n",
            " 20  V20     568630 non-null  float64\n",
            " 21  V21     568630 non-null  float64\n",
            " 22  V22     568630 non-null  float64\n",
            " 23  V23     568630 non-null  float64\n",
            " 24  V24     568630 non-null  float64\n",
            " 25  V25     568630 non-null  float64\n",
            " 26  V26     568630 non-null  float64\n",
            " 27  V27     568630 non-null  float64\n",
            " 28  V28     568630 non-null  float64\n",
            " 29  Amount  568630 non-null  float64\n",
            " 30  Class   568630 non-null  int64  \n",
            "dtypes: float64(29), int64(2)\n",
            "memory usage: 134.5 MB\n"
          ]
        },
        {
          "data": {
            "text/html": [
              "<div>\n",
              "<style scoped>\n",
              "    .dataframe tbody tr th:only-of-type {\n",
              "        vertical-align: middle;\n",
              "    }\n",
              "\n",
              "    .dataframe tbody tr th {\n",
              "        vertical-align: top;\n",
              "    }\n",
              "\n",
              "    .dataframe thead th {\n",
              "        text-align: right;\n",
              "    }\n",
              "</style>\n",
              "<table border=\"1\" class=\"dataframe\">\n",
              "  <thead>\n",
              "    <tr style=\"text-align: right;\">\n",
              "      <th></th>\n",
              "      <th>id</th>\n",
              "      <th>V1</th>\n",
              "      <th>V2</th>\n",
              "      <th>V3</th>\n",
              "      <th>V4</th>\n",
              "      <th>V5</th>\n",
              "      <th>V6</th>\n",
              "      <th>V7</th>\n",
              "      <th>V8</th>\n",
              "      <th>V9</th>\n",
              "      <th>...</th>\n",
              "      <th>V21</th>\n",
              "      <th>V22</th>\n",
              "      <th>V23</th>\n",
              "      <th>V24</th>\n",
              "      <th>V25</th>\n",
              "      <th>V26</th>\n",
              "      <th>V27</th>\n",
              "      <th>V28</th>\n",
              "      <th>Amount</th>\n",
              "      <th>Class</th>\n",
              "    </tr>\n",
              "  </thead>\n",
              "  <tbody>\n",
              "    <tr>\n",
              "      <th>count</th>\n",
              "      <td>568630.000000</td>\n",
              "      <td>5.686300e+05</td>\n",
              "      <td>5.686300e+05</td>\n",
              "      <td>5.686300e+05</td>\n",
              "      <td>5.686300e+05</td>\n",
              "      <td>5.686300e+05</td>\n",
              "      <td>5.686300e+05</td>\n",
              "      <td>5.686300e+05</td>\n",
              "      <td>5.686300e+05</td>\n",
              "      <td>5.686300e+05</td>\n",
              "      <td>...</td>\n",
              "      <td>5.686300e+05</td>\n",
              "      <td>5.686300e+05</td>\n",
              "      <td>5.686300e+05</td>\n",
              "      <td>5.686300e+05</td>\n",
              "      <td>5.686300e+05</td>\n",
              "      <td>5.686300e+05</td>\n",
              "      <td>5.686300e+05</td>\n",
              "      <td>5.686300e+05</td>\n",
              "      <td>568630.000000</td>\n",
              "      <td>568630.0</td>\n",
              "    </tr>\n",
              "    <tr>\n",
              "      <th>mean</th>\n",
              "      <td>284314.500000</td>\n",
              "      <td>-1.109271e-14</td>\n",
              "      <td>-3.429498e-14</td>\n",
              "      <td>-1.209242e-14</td>\n",
              "      <td>3.825991e-15</td>\n",
              "      <td>6.288281e-15</td>\n",
              "      <td>-2.751174e-14</td>\n",
              "      <td>1.240002e-14</td>\n",
              "      <td>8.208047e-15</td>\n",
              "      <td>-1.002980e-14</td>\n",
              "      <td>...</td>\n",
              "      <td>2.210679e-15</td>\n",
              "      <td>-8.767441e-16</td>\n",
              "      <td>4.376179e-16</td>\n",
              "      <td>6.825608e-16</td>\n",
              "      <td>2.545689e-15</td>\n",
              "      <td>1.781906e-15</td>\n",
              "      <td>2.817586e-15</td>\n",
              "      <td>2.891419e-15</td>\n",
              "      <td>12041.957635</td>\n",
              "      <td>0.5</td>\n",
              "    </tr>\n",
              "    <tr>\n",
              "      <th>std</th>\n",
              "      <td>164149.486121</td>\n",
              "      <td>1.000001e+00</td>\n",
              "      <td>1.000001e+00</td>\n",
              "      <td>1.000001e+00</td>\n",
              "      <td>1.000001e+00</td>\n",
              "      <td>1.000001e+00</td>\n",
              "      <td>1.000001e+00</td>\n",
              "      <td>1.000001e+00</td>\n",
              "      <td>1.000001e+00</td>\n",
              "      <td>1.000001e+00</td>\n",
              "      <td>...</td>\n",
              "      <td>1.000001e+00</td>\n",
              "      <td>1.000001e+00</td>\n",
              "      <td>1.000001e+00</td>\n",
              "      <td>1.000001e+00</td>\n",
              "      <td>1.000001e+00</td>\n",
              "      <td>1.000001e+00</td>\n",
              "      <td>1.000001e+00</td>\n",
              "      <td>1.000001e+00</td>\n",
              "      <td>6919.644449</td>\n",
              "      <td>0.5</td>\n",
              "    </tr>\n",
              "    <tr>\n",
              "      <th>min</th>\n",
              "      <td>0.000000</td>\n",
              "      <td>-3.495584e+00</td>\n",
              "      <td>-4.996657e+01</td>\n",
              "      <td>-3.183760e+00</td>\n",
              "      <td>-4.951222e+00</td>\n",
              "      <td>-9.952786e+00</td>\n",
              "      <td>-2.111111e+01</td>\n",
              "      <td>-4.351839e+00</td>\n",
              "      <td>-1.075634e+01</td>\n",
              "      <td>-3.751919e+00</td>\n",
              "      <td>...</td>\n",
              "      <td>-1.938252e+01</td>\n",
              "      <td>-7.734798e+00</td>\n",
              "      <td>-3.029545e+01</td>\n",
              "      <td>-4.067968e+00</td>\n",
              "      <td>-1.361263e+01</td>\n",
              "      <td>-8.226969e+00</td>\n",
              "      <td>-1.049863e+01</td>\n",
              "      <td>-3.903524e+01</td>\n",
              "      <td>50.010000</td>\n",
              "      <td>0.0</td>\n",
              "    </tr>\n",
              "    <tr>\n",
              "      <th>25%</th>\n",
              "      <td>142157.250000</td>\n",
              "      <td>-5.652859e-01</td>\n",
              "      <td>-4.866777e-01</td>\n",
              "      <td>-6.492987e-01</td>\n",
              "      <td>-6.560203e-01</td>\n",
              "      <td>-2.934955e-01</td>\n",
              "      <td>-4.458712e-01</td>\n",
              "      <td>-2.835329e-01</td>\n",
              "      <td>-1.922572e-01</td>\n",
              "      <td>-5.687446e-01</td>\n",
              "      <td>...</td>\n",
              "      <td>-1.664408e-01</td>\n",
              "      <td>-4.904892e-01</td>\n",
              "      <td>-2.376289e-01</td>\n",
              "      <td>-6.515801e-01</td>\n",
              "      <td>-5.541485e-01</td>\n",
              "      <td>-6.318948e-01</td>\n",
              "      <td>-3.049607e-01</td>\n",
              "      <td>-2.318783e-01</td>\n",
              "      <td>6054.892500</td>\n",
              "      <td>0.0</td>\n",
              "    </tr>\n",
              "    <tr>\n",
              "      <th>50%</th>\n",
              "      <td>284314.500000</td>\n",
              "      <td>-9.363846e-02</td>\n",
              "      <td>-1.358939e-01</td>\n",
              "      <td>3.528579e-04</td>\n",
              "      <td>-7.376152e-02</td>\n",
              "      <td>8.108788e-02</td>\n",
              "      <td>7.871758e-02</td>\n",
              "      <td>2.333659e-01</td>\n",
              "      <td>-1.145242e-01</td>\n",
              "      <td>9.252647e-02</td>\n",
              "      <td>...</td>\n",
              "      <td>-3.743065e-02</td>\n",
              "      <td>-2.732881e-02</td>\n",
              "      <td>-5.968903e-02</td>\n",
              "      <td>1.590123e-02</td>\n",
              "      <td>-8.193162e-03</td>\n",
              "      <td>-1.189208e-02</td>\n",
              "      <td>-1.729111e-01</td>\n",
              "      <td>-1.392973e-02</td>\n",
              "      <td>12030.150000</td>\n",
              "      <td>0.5</td>\n",
              "    </tr>\n",
              "    <tr>\n",
              "      <th>75%</th>\n",
              "      <td>426471.750000</td>\n",
              "      <td>8.326582e-01</td>\n",
              "      <td>3.435552e-01</td>\n",
              "      <td>6.285380e-01</td>\n",
              "      <td>7.070047e-01</td>\n",
              "      <td>4.397368e-01</td>\n",
              "      <td>4.977881e-01</td>\n",
              "      <td>5.259548e-01</td>\n",
              "      <td>4.729905e-02</td>\n",
              "      <td>5.592621e-01</td>\n",
              "      <td>...</td>\n",
              "      <td>1.479787e-01</td>\n",
              "      <td>4.638817e-01</td>\n",
              "      <td>1.557153e-01</td>\n",
              "      <td>7.007374e-01</td>\n",
              "      <td>5.500147e-01</td>\n",
              "      <td>6.728879e-01</td>\n",
              "      <td>3.340230e-01</td>\n",
              "      <td>4.095903e-01</td>\n",
              "      <td>18036.330000</td>\n",
              "      <td>1.0</td>\n",
              "    </tr>\n",
              "    <tr>\n",
              "      <th>max</th>\n",
              "      <td>568629.000000</td>\n",
              "      <td>2.229046e+00</td>\n",
              "      <td>4.361865e+00</td>\n",
              "      <td>1.412583e+01</td>\n",
              "      <td>3.201536e+00</td>\n",
              "      <td>4.271689e+01</td>\n",
              "      <td>2.616840e+01</td>\n",
              "      <td>2.178730e+02</td>\n",
              "      <td>5.958040e+00</td>\n",
              "      <td>2.027006e+01</td>\n",
              "      <td>...</td>\n",
              "      <td>8.087080e+00</td>\n",
              "      <td>1.263251e+01</td>\n",
              "      <td>3.170763e+01</td>\n",
              "      <td>1.296564e+01</td>\n",
              "      <td>1.462151e+01</td>\n",
              "      <td>5.623285e+00</td>\n",
              "      <td>1.132311e+02</td>\n",
              "      <td>7.725594e+01</td>\n",
              "      <td>24039.930000</td>\n",
              "      <td>1.0</td>\n",
              "    </tr>\n",
              "  </tbody>\n",
              "</table>\n",
              "<p>8 rows × 31 columns</p>\n",
              "</div>"
            ],
            "text/plain": [
              "                  id            V1            V2            V3            V4  \\\n",
              "count  568630.000000  5.686300e+05  5.686300e+05  5.686300e+05  5.686300e+05   \n",
              "mean   284314.500000 -1.109271e-14 -3.429498e-14 -1.209242e-14  3.825991e-15   \n",
              "std    164149.486121  1.000001e+00  1.000001e+00  1.000001e+00  1.000001e+00   \n",
              "min         0.000000 -3.495584e+00 -4.996657e+01 -3.183760e+00 -4.951222e+00   \n",
              "25%    142157.250000 -5.652859e-01 -4.866777e-01 -6.492987e-01 -6.560203e-01   \n",
              "50%    284314.500000 -9.363846e-02 -1.358939e-01  3.528579e-04 -7.376152e-02   \n",
              "75%    426471.750000  8.326582e-01  3.435552e-01  6.285380e-01  7.070047e-01   \n",
              "max    568629.000000  2.229046e+00  4.361865e+00  1.412583e+01  3.201536e+00   \n",
              "\n",
              "                 V5            V6            V7            V8            V9  \\\n",
              "count  5.686300e+05  5.686300e+05  5.686300e+05  5.686300e+05  5.686300e+05   \n",
              "mean   6.288281e-15 -2.751174e-14  1.240002e-14  8.208047e-15 -1.002980e-14   \n",
              "std    1.000001e+00  1.000001e+00  1.000001e+00  1.000001e+00  1.000001e+00   \n",
              "min   -9.952786e+00 -2.111111e+01 -4.351839e+00 -1.075634e+01 -3.751919e+00   \n",
              "25%   -2.934955e-01 -4.458712e-01 -2.835329e-01 -1.922572e-01 -5.687446e-01   \n",
              "50%    8.108788e-02  7.871758e-02  2.333659e-01 -1.145242e-01  9.252647e-02   \n",
              "75%    4.397368e-01  4.977881e-01  5.259548e-01  4.729905e-02  5.592621e-01   \n",
              "max    4.271689e+01  2.616840e+01  2.178730e+02  5.958040e+00  2.027006e+01   \n",
              "\n",
              "       ...           V21           V22           V23           V24  \\\n",
              "count  ...  5.686300e+05  5.686300e+05  5.686300e+05  5.686300e+05   \n",
              "mean   ...  2.210679e-15 -8.767441e-16  4.376179e-16  6.825608e-16   \n",
              "std    ...  1.000001e+00  1.000001e+00  1.000001e+00  1.000001e+00   \n",
              "min    ... -1.938252e+01 -7.734798e+00 -3.029545e+01 -4.067968e+00   \n",
              "25%    ... -1.664408e-01 -4.904892e-01 -2.376289e-01 -6.515801e-01   \n",
              "50%    ... -3.743065e-02 -2.732881e-02 -5.968903e-02  1.590123e-02   \n",
              "75%    ...  1.479787e-01  4.638817e-01  1.557153e-01  7.007374e-01   \n",
              "max    ...  8.087080e+00  1.263251e+01  3.170763e+01  1.296564e+01   \n",
              "\n",
              "                V25           V26           V27           V28         Amount  \\\n",
              "count  5.686300e+05  5.686300e+05  5.686300e+05  5.686300e+05  568630.000000   \n",
              "mean   2.545689e-15  1.781906e-15  2.817586e-15  2.891419e-15   12041.957635   \n",
              "std    1.000001e+00  1.000001e+00  1.000001e+00  1.000001e+00    6919.644449   \n",
              "min   -1.361263e+01 -8.226969e+00 -1.049863e+01 -3.903524e+01      50.010000   \n",
              "25%   -5.541485e-01 -6.318948e-01 -3.049607e-01 -2.318783e-01    6054.892500   \n",
              "50%   -8.193162e-03 -1.189208e-02 -1.729111e-01 -1.392973e-02   12030.150000   \n",
              "75%    5.500147e-01  6.728879e-01  3.340230e-01  4.095903e-01   18036.330000   \n",
              "max    1.462151e+01  5.623285e+00  1.132311e+02  7.725594e+01   24039.930000   \n",
              "\n",
              "          Class  \n",
              "count  568630.0  \n",
              "mean        0.5  \n",
              "std         0.5  \n",
              "min         0.0  \n",
              "25%         0.0  \n",
              "50%         0.5  \n",
              "75%         1.0  \n",
              "max         1.0  \n",
              "\n",
              "[8 rows x 31 columns]"
            ]
          },
          "execution_count": 3,
          "metadata": {},
          "output_type": "execute_result"
        }
      ],
      "source": [
        "cc_data = credit_original_data.copy()\n",
        "cc_data.info()\n",
        "cc_data.describe()"
      ]
    },
    {
      "cell_type": "code",
      "execution_count": null,
      "id": "c58a9e96",
      "metadata": {
        "id": "c58a9e96",
        "outputId": "57a77a2b-9e68-4327-f09a-7a7df9663cac"
      },
      "outputs": [
        {
          "name": "stdout",
          "output_type": "stream",
          "text": [
            "                 Generalized Linear Model Regression Results                  \n",
            "==============================================================================\n",
            "Dep. Variable:                  Class   No. Observations:               568630\n",
            "Model:                            GLM   Df Residuals:                   568600\n",
            "Model Family:                Binomial   Df Model:                           29\n",
            "Link Function:                  logit   Scale:                          1.0000\n",
            "Method:                          IRLS   Log-Likelihood:                -53585.\n",
            "Date:                Sat, 04 Nov 2023   Deviance:                   1.0717e+05\n",
            "Time:                        18:38:15   Pearson chi2:                 7.82e+16\n",
            "No. Iterations:                    13                                         \n",
            "Covariance Type:            nonrobust                                         \n",
            "==============================================================================\n",
            "                 coef    std err          z      P>|z|      [0.025      0.975]\n",
            "------------------------------------------------------------------------------\n",
            "Intercept      9.0810      0.084    108.499      0.000       8.917       9.245\n",
            "V1            -0.6880      0.019    -36.668      0.000      -0.725      -0.651\n",
            "V2             0.1582      0.016      9.703      0.000       0.126       0.190\n",
            "V3            -1.1804      0.020    -59.558      0.000      -1.219      -1.142\n",
            "V4             3.6329      0.027    136.191      0.000       3.581       3.685\n",
            "V5            -0.0153      0.014     -1.057      0.290      -0.044       0.013\n",
            "V6            -0.4789      0.017    -28.909      0.000      -0.511      -0.446\n",
            "V7            -1.1092      0.026    -42.289      0.000      -1.161      -1.058\n",
            "V8            -2.8335      0.045    -63.570      0.000      -2.921      -2.746\n",
            "V9            -0.4779      0.022    -21.598      0.000      -0.521      -0.435\n",
            "V10           -1.8979      0.031    -60.689      0.000      -1.959      -1.837\n",
            "V11            1.8757      0.018    103.216      0.000       1.840       1.911\n",
            "V12           -2.8171      0.026   -109.223      0.000      -2.868      -2.767\n",
            "V13            0.0176      0.009      2.014      0.044       0.000       0.035\n",
            "V14           -3.3569      0.026   -127.275      0.000      -3.409      -3.305\n",
            "V15           -0.2418      0.009    -27.972      0.000      -0.259      -0.225\n",
            "V16           -0.8542      0.024    -35.459      0.000      -0.901      -0.807\n",
            "V17           -1.9342      0.027    -71.811      0.000      -1.987      -1.881\n",
            "V18           -0.9296      0.021    -45.195      0.000      -0.970      -0.889\n",
            "V19           -0.0804      0.012     -6.443      0.000      -0.105      -0.056\n",
            "V20            0.1328      0.012     10.902      0.000       0.109       0.157\n",
            "V21            0.2487      0.028      8.737      0.000       0.193       0.304\n",
            "V22            0.4401      0.015     29.085      0.000       0.410       0.470\n",
            "V23           -0.3412      0.011    -31.866      0.000      -0.362      -0.320\n",
            "V24           -0.1660      0.009    -18.049      0.000      -0.184      -0.148\n",
            "V25            0.1617      0.011     14.900      0.000       0.140       0.183\n",
            "V26           -0.1069      0.010    -10.920      0.000      -0.126      -0.088\n",
            "V27            0.1873      0.022      8.642      0.000       0.145       0.230\n",
            "V28            0.1534      0.011     14.578      0.000       0.133       0.174\n",
            "Amount     -7.252e-08   1.17e-06     -0.062      0.950   -2.36e-06    2.22e-06\n",
            "==============================================================================\n"
          ]
        }
      ],
      "source": [
        "#perform logistic regression using glm (generalized linear model) method\n",
        "logit_equation = 'Class~V1+V2+V3+V4+V5+V6+V7+V8+V9+V10+V11+V12+V13+V14+V15+V16+V17+V18+V19+V20+V21+V22+V23+V24+V25+V26+V27+V28+Amount'\n",
        "fit1 = smf.glm(logit_equation, data=cc_data, family=sm.families.Binomial()).fit()\n",
        "print(fit1.summary())"
      ]
    },
    {
      "cell_type": "code",
      "execution_count": null,
      "id": "1dd46b85",
      "metadata": {
        "id": "1dd46b85",
        "outputId": "6f89b480-72b8-4451-d8af-7398720c8e02"
      },
      "outputs": [
        {
          "data": {
            "text/html": [
              "<div>\n",
              "<style scoped>\n",
              "    .dataframe tbody tr th:only-of-type {\n",
              "        vertical-align: middle;\n",
              "    }\n",
              "\n",
              "    .dataframe tbody tr th {\n",
              "        vertical-align: top;\n",
              "    }\n",
              "\n",
              "    .dataframe thead th {\n",
              "        text-align: right;\n",
              "    }\n",
              "</style>\n",
              "<table border=\"1\" class=\"dataframe\">\n",
              "  <thead>\n",
              "    <tr style=\"text-align: right;\">\n",
              "      <th></th>\n",
              "      <th>id</th>\n",
              "      <th>V1</th>\n",
              "      <th>V2</th>\n",
              "      <th>V3</th>\n",
              "      <th>V4</th>\n",
              "      <th>V5</th>\n",
              "      <th>Amount</th>\n",
              "      <th>Class</th>\n",
              "    </tr>\n",
              "  </thead>\n",
              "  <tbody>\n",
              "    <tr>\n",
              "      <th>0</th>\n",
              "      <td>0</td>\n",
              "      <td>-0.260648</td>\n",
              "      <td>-0.469648</td>\n",
              "      <td>2.496266</td>\n",
              "      <td>-0.083724</td>\n",
              "      <td>0.129681</td>\n",
              "      <td>17982.10</td>\n",
              "      <td>0</td>\n",
              "    </tr>\n",
              "    <tr>\n",
              "      <th>1</th>\n",
              "      <td>1</td>\n",
              "      <td>0.985100</td>\n",
              "      <td>-0.356045</td>\n",
              "      <td>0.558056</td>\n",
              "      <td>-0.429654</td>\n",
              "      <td>0.277140</td>\n",
              "      <td>6531.37</td>\n",
              "      <td>0</td>\n",
              "    </tr>\n",
              "    <tr>\n",
              "      <th>2</th>\n",
              "      <td>2</td>\n",
              "      <td>-0.260272</td>\n",
              "      <td>-0.949385</td>\n",
              "      <td>1.728538</td>\n",
              "      <td>-0.457986</td>\n",
              "      <td>0.074062</td>\n",
              "      <td>2513.54</td>\n",
              "      <td>0</td>\n",
              "    </tr>\n",
              "    <tr>\n",
              "      <th>3</th>\n",
              "      <td>3</td>\n",
              "      <td>-0.152152</td>\n",
              "      <td>-0.508959</td>\n",
              "      <td>1.746840</td>\n",
              "      <td>-1.090178</td>\n",
              "      <td>0.249486</td>\n",
              "      <td>5384.44</td>\n",
              "      <td>0</td>\n",
              "    </tr>\n",
              "    <tr>\n",
              "      <th>4</th>\n",
              "      <td>4</td>\n",
              "      <td>-0.206820</td>\n",
              "      <td>-0.165280</td>\n",
              "      <td>1.527053</td>\n",
              "      <td>-0.448293</td>\n",
              "      <td>0.106125</td>\n",
              "      <td>14278.97</td>\n",
              "      <td>0</td>\n",
              "    </tr>\n",
              "  </tbody>\n",
              "</table>\n",
              "</div>"
            ],
            "text/plain": [
              "   id        V1        V2        V3        V4        V5    Amount  Class\n",
              "0   0 -0.260648 -0.469648  2.496266 -0.083724  0.129681  17982.10      0\n",
              "1   1  0.985100 -0.356045  0.558056 -0.429654  0.277140   6531.37      0\n",
              "2   2 -0.260272 -0.949385  1.728538 -0.457986  0.074062   2513.54      0\n",
              "3   3 -0.152152 -0.508959  1.746840 -1.090178  0.249486   5384.44      0\n",
              "4   4 -0.206820 -0.165280  1.527053 -0.448293  0.106125  14278.97      0"
            ]
          },
          "execution_count": 5,
          "metadata": {},
          "output_type": "execute_result"
        }
      ],
      "source": [
        "# Columns to keep\n",
        "target_columns = ['id', 'V1', 'V2', 'V3', 'V4', 'V5', 'Amount', 'Class']\n",
        "\n",
        "# Create a new DataFrame with the selected columns\n",
        "cc_data = cc_data[target_columns]\n",
        "cc_data.head()"
      ]
    },
    {
      "cell_type": "code",
      "execution_count": 2,
      "id": "ff05d46b",
      "metadata": {
        "id": "ff05d46b",
        "outputId": "06b514ca-b68e-4d24-859b-8ae46069a7a1",
        "colab": {
          "base_uri": "https://localhost:8080/",
          "height": 211
        }
      },
      "outputs": [
        {
          "output_type": "error",
          "ename": "NameError",
          "evalue": "name 'plt' is not defined",
          "traceback": [
            "\u001b[0;31m---------------------------------------------------------------------------\u001b[0m",
            "\u001b[0;31mNameError\u001b[0m                                 Traceback (most recent call last)",
            "\u001b[0;32m<ipython-input-2-098ceec9e8bf>\u001b[0m in \u001b[0;36m<cell line: 0>\u001b[0;34m()\u001b[0m\n\u001b[1;32m      3\u001b[0m \u001b[0;34m\u001b[0m\u001b[0m\n\u001b[1;32m      4\u001b[0m \u001b[0;31m# Create subplots for the histograms\u001b[0m\u001b[0;34m\u001b[0m\u001b[0;34m\u001b[0m\u001b[0m\n\u001b[0;32m----> 5\u001b[0;31m \u001b[0mfig\u001b[0m\u001b[0;34m,\u001b[0m \u001b[0maxes\u001b[0m \u001b[0;34m=\u001b[0m \u001b[0mplt\u001b[0m\u001b[0;34m.\u001b[0m\u001b[0msubplots\u001b[0m\u001b[0;34m(\u001b[0m\u001b[0;36m2\u001b[0m\u001b[0;34m,\u001b[0m \u001b[0;36m3\u001b[0m\u001b[0;34m,\u001b[0m \u001b[0mfigsize\u001b[0m\u001b[0;34m=\u001b[0m\u001b[0;34m(\u001b[0m\u001b[0;36m15\u001b[0m\u001b[0;34m,\u001b[0m \u001b[0;36m10\u001b[0m\u001b[0;34m)\u001b[0m\u001b[0;34m)\u001b[0m\u001b[0;34m\u001b[0m\u001b[0;34m\u001b[0m\u001b[0m\n\u001b[0m\u001b[1;32m      6\u001b[0m \u001b[0mfig\u001b[0m\u001b[0;34m.\u001b[0m\u001b[0msubplots_adjust\u001b[0m\u001b[0;34m(\u001b[0m\u001b[0mhspace\u001b[0m\u001b[0;34m=\u001b[0m\u001b[0;36m0.5\u001b[0m\u001b[0;34m)\u001b[0m\u001b[0;34m\u001b[0m\u001b[0;34m\u001b[0m\u001b[0m\n\u001b[1;32m      7\u001b[0m \u001b[0;34m\u001b[0m\u001b[0m\n",
            "\u001b[0;31mNameError\u001b[0m: name 'plt' is not defined"
          ]
        }
      ],
      "source": [
        "# Define the columns you want to plot\n",
        "columns_to_plot = ['V1', 'V2', 'V3', 'V4', 'V5', 'Amount']\n",
        "\n",
        "# Create subplots for the histograms\n",
        "fig, axes = plt.subplots(2, 3, figsize=(15, 10))\n",
        "fig.subplots_adjust(hspace=0.5)\n",
        "\n",
        "for i, col in enumerate(columns_to_plot):\n",
        "    row_idx = i // 3\n",
        "    col_idx = i % 3\n",
        "\n",
        "    sns.histplot(data=cc_data, x=col, kde=True, color='blue', ax=axes[row_idx, col_idx])\n",
        "    axes[row_idx, col_idx].set_title(f'Histogram of {col}')\n",
        "    axes[row_idx, col_idx].set_xlabel(col)\n",
        "    axes[row_idx, col_idx].set_ylabel('Frequency')\n",
        "\n",
        "# Remove empty subplots, if any\n",
        "for i in range(len(columns_to_plot), 2 * 3):\n",
        "    fig.delaxes(axes.flatten()[i])\n",
        "\n",
        "plt.show()"
      ]
    },
    {
      "cell_type": "code",
      "execution_count": null,
      "id": "447908c5",
      "metadata": {
        "id": "447908c5",
        "outputId": "d9309bed-6907-4997-c6f6-b976f9565009"
      },
      "outputs": [
        {
          "data": {
            "image/png": "[encoded data removed]",
            "text/plain": [
              "<Figure size 432x288 with 1 Axes>"
            ]
          },
          "metadata": {
            "needs_background": "light"
          },
          "output_type": "display_data"
        },
        {
          "name": "stdout",
          "output_type": "stream",
          "text": [
            "Count of Fraudulent Transactions: 284315\n",
            "Count of Non-Fraudulent Transactions: 284315\n"
          ]
        }
      ],
      "source": [
        "plt.figure(figsize=(6, 4))\n",
        "sns.countplot(x='Class', data=cc_data, palette='Set1')\n",
        "plt.title('Distribution of Classes')\n",
        "plt.xlabel('Class')\n",
        "plt.ylabel('Count')\n",
        "plt.show()\n",
        "\n",
        "fraud_count = (cc_data['Class']==1).sum()\n",
        "nonfraud_count = (cc_data['Class']==0).sum()\n",
        "print(\"Count of Fraudulent Transactions:\", fraud_count)\n",
        "print(\"Count of Non-Fraudulent Transactions:\", nonfraud_count)"
      ]
    },
    {
      "cell_type": "code",
      "execution_count": null,
      "id": "eb9e6ee0",
      "metadata": {
        "scrolled": true,
        "id": "eb9e6ee0",
        "outputId": "48b23a36-a730-458a-b4e2-7dc6e0c981b9"
      },
      "outputs": [
        {
          "name": "stdout",
          "output_type": "stream",
          "text": [
            "                 Generalized Linear Model Regression Results                  \n",
            "==============================================================================\n",
            "Dep. Variable:                  Class   No. Observations:               568630\n",
            "Model:                            GLM   Df Residuals:                   568624\n",
            "Model Family:                Binomial   Df Model:                            5\n",
            "Link Function:                  logit   Scale:                          1.0000\n",
            "Method:                          IRLS   Log-Likelihood:            -1.0149e+05\n",
            "Date:                Sat, 04 Nov 2023   Deviance:                   2.0298e+05\n",
            "Time:                        18:38:31   Pearson chi2:                 3.39e+08\n",
            "No. Iterations:                     9                                         \n",
            "Covariance Type:            nonrobust                                         \n",
            "==============================================================================\n",
            "                 coef    std err          z      P>|z|      [0.025      0.975]\n",
            "------------------------------------------------------------------------------\n",
            "Intercept      1.3717      0.009    158.461      0.000       1.355       1.389\n",
            "V1            -1.1214      0.008   -148.395      0.000      -1.136      -1.107\n",
            "V2             0.8378      0.009     97.750      0.000       0.821       0.855\n",
            "V3            -2.2584      0.011   -209.723      0.000      -2.280      -2.237\n",
            "V4             3.4206      0.013    260.838      0.000       3.395       3.446\n",
            "V5            -0.1120      0.008    -13.584      0.000      -0.128      -0.096\n",
            "==============================================================================\n"
          ]
        }
      ],
      "source": [
        "#perform logistic regression using glm (generalized linear model) method.\n",
        "#Note, we leave out Amount as it isn't statistically significant\n",
        "logit_eq = 'Class~V1+V2+V3+V4+V5'\n",
        "fit1 = smf.glm(logit_eq, data=cc_data, family=sm.families.Binomial()).fit()\n",
        "print(fit1.summary())"
      ]
    },
    {
      "cell_type": "code",
      "execution_count": null,
      "id": "90a428e7",
      "metadata": {
        "id": "90a428e7"
      },
      "outputs": [],
      "source": [
        "#split data into training and validation/test set\n",
        "train, test = train_test_split(cc_data, test_size=0.2, random_state = 42)\n",
        "\n",
        "#Fit logistic regression model with training set\n",
        "fit2 = smf.glm(logit_eq, data=train, family=sm.families.Binomial()).fit()"
      ]
    },
    {
      "cell_type": "code",
      "execution_count": null,
      "id": "9fde4f3f",
      "metadata": {
        "id": "9fde4f3f",
        "outputId": "14be306b-7a99-4772-f1c0-bae865da9ee5"
      },
      "outputs": [
        {
          "name": "stdout",
          "output_type": "stream",
          "text": [
            "Our model has a misclassifcation rate of: 6.686245889242566 %\n"
          ]
        }
      ],
      "source": [
        "#Make predictions on the validation set with the new model\n",
        "predictions = fit2.predict(test)\n",
        "\n",
        "#Convert predicted probabilities to binary predictions: 1 if prob>0.5\n",
        "encode = lambda x: 1 if x>=0.5 else 0\n",
        "predicted = predictions.map(encode)\n",
        "\n",
        "# compare the predicted values with the actual values in the test set\n",
        "misclassified = (predicted != test['Class']).sum()\n",
        "\n",
        "mis_rate = misclassified/len(test)\n",
        "print(\"Our model has a misclassifcation rate of:\", mis_rate*100, \"%\")"
      ]
    },
    {
      "cell_type": "code",
      "execution_count": null,
      "id": "7922be24",
      "metadata": {
        "id": "7922be24",
        "outputId": "f25ebc62-ed7c-421a-ada3-c0619b29d49c"
      },
      "outputs": [
        {
          "data": {
            "image/png": "[encoded data removed]",
            "text/plain": [
              "<Figure size 720x576 with 2 Axes>"
            ]
          },
          "metadata": {
            "needs_background": "light"
          },
          "output_type": "display_data"
        }
      ],
      "source": [
        "true_labels = test['Class']\n",
        "cm = confusion_matrix(true_labels, predicted)\n",
        "\n",
        "# Plot the confusion matrix as a heatmap\n",
        "plt.figure(figsize=(10, 8))\n",
        "sns.heatmap(cm, annot=True, fmt='d', cmap='Blues', xticklabels=['Non-Fraudulent', 'Fraudulent'], yticklabels=['Non-Fraudulent', 'Fraudulent'])\n",
        "plt.xlabel('Predicted')\n",
        "plt.ylabel('True')\n",
        "plt.title('Confusion Matrix')\n",
        "plt.show()"
      ]
    },
    {
      "cell_type": "code",
      "execution_count": null,
      "id": "f3c5b4fd",
      "metadata": {
        "id": "f3c5b4fd"
      },
      "outputs": [],
      "source": [
        "test_sizes = [0.1, 0.3, 0.5]\n",
        "#to store the misclassification accuracy score for each model\n",
        "model_rates = []\n",
        "#to store the model parameters\n",
        "model_params = []\n",
        "\n",
        "#iterate through each test size\n",
        "for test_size in test_sizes:\n",
        "\n",
        "    #split data into training and validation sets\n",
        "    train, test = train_test_split(cc_data, test_size=test_size, random_state = 42)\n",
        "\n",
        "    #fit the logistic regression model on training set\n",
        "    model = smf.glm(logit_eq, data=train, family=sm.families.Binomial()).fit()\n",
        "\n",
        "    #Store model parameters\n",
        "    model_params.append(model.params)\n",
        "\n",
        "    #Get predictions on test/validation test\n",
        "    predicted_probs = model.predict(test)\n",
        "\n",
        "    #Classifdy predictions on 0.5 threshold\n",
        "    predicted = predicted_probs.map(encode)\n",
        "\n",
        "    #Calculate misclassification rate & store rates\n",
        "    misclassified = (predicted != test['Class']).sum()\n",
        "    mis_rate = misclassified / len(test)\n",
        "    model_rates.append(mis_rate)\n",
        "\n",
        "#Store misclassification rates in designated variables\n",
        "mis_rate_10, mis_rate_30, mis_rate_50 = model_rates"
      ]
    },
    {
      "cell_type": "code",
      "execution_count": null,
      "id": "75a532d9",
      "metadata": {
        "id": "75a532d9",
        "outputId": "d151538b-b62b-4b38-8811-a8cd16ab2e9e"
      },
      "outputs": [
        {
          "name": "stdout",
          "output_type": "stream",
          "text": [
            "Misclassification Rate for 10% Test Size: 6.853314105833319 %\n",
            "Misclassification Rate for 30% Test Size: 6.631728892249793 %\n",
            "Misclassification Rate for 50% Test Size: 6.641225401403374 %\n"
          ]
        }
      ],
      "source": [
        "print(f\"Misclassification Rate for 10% Test Size:\", mis_rate_10*100, \"%\")\n",
        "print(f\"Misclassification Rate for 30% Test Size:\", mis_rate_30*100, \"%\")\n",
        "print(f\"Misclassification Rate for 50% Test Size:\", mis_rate_50*100, \"%\")"
      ]
    },
    {
      "cell_type": "code",
      "execution_count": null,
      "id": "6b070852",
      "metadata": {
        "id": "6b070852",
        "outputId": "a6718d8f-382e-40a5-dbee-4a862778316c"
      },
      "outputs": [
        {
          "name": "stdout",
          "output_type": "stream",
          "text": [
            "0.06621212387668608\n"
          ]
        }
      ],
      "source": [
        "#Store all miclassification rates\n",
        "misclass_rates = []\n",
        "\n",
        "model = LogisticRegression() #Define ML Model\n",
        "\n",
        "for trial in range(10):\n",
        "    #Define cross-value method\n",
        "    cv_method = KFold(n_splits = 10, shuffle=True, random_state = trial)\n",
        "\n",
        "    #perform cv and get accuracy scores for each fold\n",
        "    scores = cross_val_score(model, cc_data[['V1','V2','V3','V4','V5']], cc_data['Class'], cv=cv_method, scoring ='accuracy')\n",
        "\n",
        "    #calculate misclassification rate for each fold\n",
        "    misclass_rate = 1 - scores\n",
        "    misclass_rates.extend(misclass_rate)\n",
        "\n",
        "mis_rate_kfold =sum(misclass_rates) / len(misclass_rates)\n",
        "print(mis_rate_kfold)"
      ]
    },
    {
      "cell_type": "code",
      "execution_count": null,
      "id": "8bab9a91",
      "metadata": {
        "id": "8bab9a91",
        "outputId": "f731aad4-3be4-46df-acf7-2744f482ab70"
      },
      "outputs": [
        {
          "data": {
            "text/html": [
              "<div>\n",
              "<style scoped>\n",
              "    .dataframe tbody tr th:only-of-type {\n",
              "        vertical-align: middle;\n",
              "    }\n",
              "\n",
              "    .dataframe tbody tr th {\n",
              "        vertical-align: top;\n",
              "    }\n",
              "\n",
              "    .dataframe thead th {\n",
              "        text-align: right;\n",
              "    }\n",
              "</style>\n",
              "<table border=\"1\" class=\"dataframe\">\n",
              "  <thead>\n",
              "    <tr style=\"text-align: right;\">\n",
              "      <th></th>\n",
              "      <th>V1</th>\n",
              "      <th>V2</th>\n",
              "      <th>V3</th>\n",
              "      <th>V4</th>\n",
              "      <th>V5</th>\n",
              "      <th>V6</th>\n",
              "      <th>V7</th>\n",
              "      <th>V8</th>\n",
              "      <th>V9</th>\n",
              "      <th>V10</th>\n",
              "      <th>...</th>\n",
              "      <th>V20</th>\n",
              "      <th>V21</th>\n",
              "      <th>V22</th>\n",
              "      <th>V23</th>\n",
              "      <th>V24</th>\n",
              "      <th>V25</th>\n",
              "      <th>V26</th>\n",
              "      <th>V27</th>\n",
              "      <th>V28</th>\n",
              "      <th>Class</th>\n",
              "    </tr>\n",
              "  </thead>\n",
              "  <tbody>\n",
              "    <tr>\n",
              "      <th>0</th>\n",
              "      <td>-0.260648</td>\n",
              "      <td>-0.469648</td>\n",
              "      <td>2.496266</td>\n",
              "      <td>-0.083724</td>\n",
              "      <td>0.129681</td>\n",
              "      <td>0.732898</td>\n",
              "      <td>0.519014</td>\n",
              "      <td>-0.130006</td>\n",
              "      <td>0.727159</td>\n",
              "      <td>0.637735</td>\n",
              "      <td>...</td>\n",
              "      <td>0.091202</td>\n",
              "      <td>-0.110552</td>\n",
              "      <td>0.217606</td>\n",
              "      <td>-0.134794</td>\n",
              "      <td>0.165959</td>\n",
              "      <td>0.126280</td>\n",
              "      <td>-0.434824</td>\n",
              "      <td>-0.081230</td>\n",
              "      <td>-0.151045</td>\n",
              "      <td>0</td>\n",
              "    </tr>\n",
              "    <tr>\n",
              "      <th>1</th>\n",
              "      <td>0.985100</td>\n",
              "      <td>-0.356045</td>\n",
              "      <td>0.558056</td>\n",
              "      <td>-0.429654</td>\n",
              "      <td>0.277140</td>\n",
              "      <td>0.428605</td>\n",
              "      <td>0.406466</td>\n",
              "      <td>-0.133118</td>\n",
              "      <td>0.347452</td>\n",
              "      <td>0.529808</td>\n",
              "      <td>...</td>\n",
              "      <td>-0.233984</td>\n",
              "      <td>-0.194936</td>\n",
              "      <td>-0.605761</td>\n",
              "      <td>0.079469</td>\n",
              "      <td>-0.577395</td>\n",
              "      <td>0.190090</td>\n",
              "      <td>0.296503</td>\n",
              "      <td>-0.248052</td>\n",
              "      <td>-0.064512</td>\n",
              "      <td>0</td>\n",
              "    </tr>\n",
              "    <tr>\n",
              "      <th>2</th>\n",
              "      <td>-0.260272</td>\n",
              "      <td>-0.949385</td>\n",
              "      <td>1.728538</td>\n",
              "      <td>-0.457986</td>\n",
              "      <td>0.074062</td>\n",
              "      <td>1.419481</td>\n",
              "      <td>0.743511</td>\n",
              "      <td>-0.095576</td>\n",
              "      <td>-0.261297</td>\n",
              "      <td>0.690708</td>\n",
              "      <td>...</td>\n",
              "      <td>0.361652</td>\n",
              "      <td>-0.005020</td>\n",
              "      <td>0.702906</td>\n",
              "      <td>0.945045</td>\n",
              "      <td>-1.154666</td>\n",
              "      <td>-0.605564</td>\n",
              "      <td>-0.312895</td>\n",
              "      <td>-0.300258</td>\n",
              "      <td>-0.244718</td>\n",
              "      <td>0</td>\n",
              "    </tr>\n",
              "    <tr>\n",
              "      <th>3</th>\n",
              "      <td>-0.152152</td>\n",
              "      <td>-0.508959</td>\n",
              "      <td>1.746840</td>\n",
              "      <td>-1.090178</td>\n",
              "      <td>0.249486</td>\n",
              "      <td>1.143312</td>\n",
              "      <td>0.518269</td>\n",
              "      <td>-0.065130</td>\n",
              "      <td>-0.205698</td>\n",
              "      <td>0.575231</td>\n",
              "      <td>...</td>\n",
              "      <td>-0.378223</td>\n",
              "      <td>-0.146927</td>\n",
              "      <td>-0.038212</td>\n",
              "      <td>-0.214048</td>\n",
              "      <td>-1.893131</td>\n",
              "      <td>1.003963</td>\n",
              "      <td>-0.515950</td>\n",
              "      <td>-0.165316</td>\n",
              "      <td>0.048424</td>\n",
              "      <td>0</td>\n",
              "    </tr>\n",
              "    <tr>\n",
              "      <th>4</th>\n",
              "      <td>-0.206820</td>\n",
              "      <td>-0.165280</td>\n",
              "      <td>1.527053</td>\n",
              "      <td>-0.448293</td>\n",
              "      <td>0.106125</td>\n",
              "      <td>0.530549</td>\n",
              "      <td>0.658849</td>\n",
              "      <td>-0.212660</td>\n",
              "      <td>1.049921</td>\n",
              "      <td>0.968046</td>\n",
              "      <td>...</td>\n",
              "      <td>0.247237</td>\n",
              "      <td>-0.106984</td>\n",
              "      <td>0.729727</td>\n",
              "      <td>-0.161666</td>\n",
              "      <td>0.312561</td>\n",
              "      <td>-0.414116</td>\n",
              "      <td>1.071126</td>\n",
              "      <td>0.023712</td>\n",
              "      <td>0.419117</td>\n",
              "      <td>0</td>\n",
              "    </tr>\n",
              "  </tbody>\n",
              "</table>\n",
              "<p>5 rows × 29 columns</p>\n",
              "</div>"
            ],
            "text/plain": [
              "         V1        V2        V3        V4        V5        V6        V7  \\\n",
              "0 -0.260648 -0.469648  2.496266 -0.083724  0.129681  0.732898  0.519014   \n",
              "1  0.985100 -0.356045  0.558056 -0.429654  0.277140  0.428605  0.406466   \n",
              "2 -0.260272 -0.949385  1.728538 -0.457986  0.074062  1.419481  0.743511   \n",
              "3 -0.152152 -0.508959  1.746840 -1.090178  0.249486  1.143312  0.518269   \n",
              "4 -0.206820 -0.165280  1.527053 -0.448293  0.106125  0.530549  0.658849   \n",
              "\n",
              "         V8        V9       V10  ...       V20       V21       V22       V23  \\\n",
              "0 -0.130006  0.727159  0.637735  ...  0.091202 -0.110552  0.217606 -0.134794   \n",
              "1 -0.133118  0.347452  0.529808  ... -0.233984 -0.194936 -0.605761  0.079469   \n",
              "2 -0.095576 -0.261297  0.690708  ...  0.361652 -0.005020  0.702906  0.945045   \n",
              "3 -0.065130 -0.205698  0.575231  ... -0.378223 -0.146927 -0.038212 -0.214048   \n",
              "4 -0.212660  1.049921  0.968046  ...  0.247237 -0.106984  0.729727 -0.161666   \n",
              "\n",
              "        V24       V25       V26       V27       V28  Class  \n",
              "0  0.165959  0.126280 -0.434824 -0.081230 -0.151045      0  \n",
              "1 -0.577395  0.190090  0.296503 -0.248052 -0.064512      0  \n",
              "2 -1.154666 -0.605564 -0.312895 -0.300258 -0.244718      0  \n",
              "3 -1.893131  1.003963 -0.515950 -0.165316  0.048424      0  \n",
              "4  0.312561 -0.414116  1.071126  0.023712  0.419117      0  \n",
              "\n",
              "[5 rows x 29 columns]"
            ]
          },
          "execution_count": 15,
          "metadata": {},
          "output_type": "execute_result"
        }
      ],
      "source": [
        "#Get get original dataset\n",
        "cc_data = credit_original_data.copy()\n",
        "cc_data = cc_data.drop(columns = ['id', 'Amount'])\n",
        "\n",
        "cc_data.head()"
      ]
    },
    {
      "cell_type": "code",
      "execution_count": null,
      "id": "f7379af6",
      "metadata": {
        "id": "f7379af6",
        "outputId": "1121b3bd-6233-4a61-cd27-310b2c9d31e5"
      },
      "outputs": [
        {
          "name": "stdout",
          "output_type": "stream",
          "text": [
            "The feature that has the highest correlation with Credit Card Fraud is: V4\n"
          ]
        }
      ],
      "source": [
        "# Calculate pairwise correlations\n",
        "corr_matrix = cc_data.corr()\n",
        "# Find the correlation of 'HD' with all predictor variables\n",
        "corr_HD = corr_matrix['Class']\n",
        "\n",
        "# Find the predictor with the highest positive correlation\n",
        "highest_corr = corr_HD.drop('Class').idxmax()\n",
        "\n",
        "print(f\"The feature that has the highest correlation with Credit Card Fraud is: {highest_corr}\")"
      ]
    },
    {
      "cell_type": "code",
      "execution_count": null,
      "id": "4fee360f",
      "metadata": {
        "id": "4fee360f"
      },
      "outputs": [],
      "source": [
        "X = cc_data.drop('Class', axis=1) # All predictor variables\n",
        "y = cc_data['Class'] # Target Output\n",
        "\n",
        "X_train, X_test, y_train, y_test = train_test_split(X, y, test_size=0.2, random_state=42)"
      ]
    },
    {
      "cell_type": "code",
      "execution_count": null,
      "id": "2ee15bcd",
      "metadata": {
        "id": "2ee15bcd",
        "outputId": "ba214ee2-c905-4753-e061-087630824a79"
      },
      "outputs": [
        {
          "data": {
            "text/html": [
              "<style>#sk-container-id-1 {color: black;}#sk-container-id-1 pre{padding: 0;}#sk-container-id-1 div.sk-toggleable {background-color: white;}#sk-container-id-1 label.sk-toggleable__label {cursor: pointer;display: block;width: 100%;margin-bottom: 0;padding: 0.3em;box-sizing: border-box;text-align: center;}#sk-container-id-1 label.sk-toggleable__label-arrow:before {content: \"▸\";float: left;margin-right: 0.25em;color: #696969;}#sk-container-id-1 label.sk-toggleable__label-arrow:hover:before {color: black;}#sk-container-id-1 div.sk-estimator:hover label.sk-toggleable__label-arrow:before {color: black;}#sk-container-id-1 div.sk-toggleable__content {max-height: 0;max-width: 0;overflow: hidden;text-align: left;background-color: #f0f8ff;}#sk-container-id-1 div.sk-toggleable__content pre {margin: 0.2em;color: black;border-radius: 0.25em;background-color: #f0f8ff;}#sk-container-id-1 input.sk-toggleable__control:checked~div.sk-toggleable__content {max-height: 200px;max-width: 100%;overflow: auto;}#sk-container-id-1 input.sk-toggleable__control:checked~label.sk-toggleable__label-arrow:before {content: \"▾\";}#sk-container-id-1 div.sk-estimator input.sk-toggleable__control:checked~label.sk-toggleable__label {background-color: #d4ebff;}#sk-container-id-1 div.sk-label input.sk-toggleable__control:checked~label.sk-toggleable__label {background-color: #d4ebff;}#sk-container-id-1 input.sk-hidden--visually {border: 0;clip: rect(1px 1px 1px 1px);clip: rect(1px, 1px, 1px, 1px);height: 1px;margin: -1px;overflow: hidden;padding: 0;position: absolute;width: 1px;}#sk-container-id-1 div.sk-estimator {font-family: monospace;background-color: #f0f8ff;border: 1px dotted black;border-radius: 0.25em;box-sizing: border-box;margin-bottom: 0.5em;}#sk-container-id-1 div.sk-estimator:hover {background-color: #d4ebff;}#sk-container-id-1 div.sk-parallel-item::after {content: \"\";width: 100%;border-bottom: 1px solid gray;flex-grow: 1;}#sk-container-id-1 div.sk-label:hover label.sk-toggleable__label {background-color: #d4ebff;}#sk-container-id-1 div.sk-serial::before {content: \"\";position: absolute;border-left: 1px solid gray;box-sizing: border-box;top: 0;bottom: 0;left: 50%;z-index: 0;}#sk-container-id-1 div.sk-serial {display: flex;flex-direction: column;align-items: center;background-color: white;padding-right: 0.2em;padding-left: 0.2em;position: relative;}#sk-container-id-1 div.sk-item {position: relative;z-index: 1;}#sk-container-id-1 div.sk-parallel {display: flex;align-items: stretch;justify-content: center;background-color: white;position: relative;}#sk-container-id-1 div.sk-item::before, #sk-container-id-1 div.sk-parallel-item::before {content: \"\";position: absolute;border-left: 1px solid gray;box-sizing: border-box;top: 0;bottom: 0;left: 50%;z-index: -1;}#sk-container-id-1 div.sk-parallel-item {display: flex;flex-direction: column;z-index: 1;position: relative;background-color: white;}#sk-container-id-1 div.sk-parallel-item:first-child::after {align-self: flex-end;width: 50%;}#sk-container-id-1 div.sk-parallel-item:last-child::after {align-self: flex-start;width: 50%;}#sk-container-id-1 div.sk-parallel-item:only-child::after {width: 0;}#sk-container-id-1 div.sk-dashed-wrapped {border: 1px dashed gray;margin: 0 0.4em 0.5em 0.4em;box-sizing: border-box;padding-bottom: 0.4em;background-color: white;}#sk-container-id-1 div.sk-label label {font-family: monospace;font-weight: bold;display: inline-block;line-height: 1.2em;}#sk-container-id-1 div.sk-label-container {text-align: center;}#sk-container-id-1 div.sk-container {/* jupyter's `normalize.less` sets `[hidden] { display: none; }` but bootstrap.min.css set `[hidden] { display: none !important; }` so we also need the `!important` here to be able to override the default hidden behavior on the sphinx rendered scikit-learn.org. See: https://github.com/scikit-learn/scikit-learn/issues/21755 */display: inline-block !important;position: relative;}#sk-container-id-1 div.sk-text-repr-fallback {display: none;}</style><div id=\"sk-container-id-1\" class=\"sk-top-container\"><div class=\"sk-text-repr-fallback\"><pre>BaggingClassifier(random_state=42)</pre><b>In a Jupyter environment, please rerun this cell to show the HTML representation or trust the notebook. <br />On GitHub, the HTML representation is unable to render, please try loading this page with nbviewer.org.</b></div><div class=\"sk-container\" hidden><div class=\"sk-item\"><div class=\"sk-estimator sk-toggleable\"><input class=\"sk-toggleable__control sk-hidden--visually\" id=\"sk-estimator-id-1\" type=\"checkbox\" checked><label for=\"sk-estimator-id-1\" class=\"sk-toggleable__label sk-toggleable__label-arrow\">BaggingClassifier</label><div class=\"sk-toggleable__content\"><pre>BaggingClassifier(random_state=42)</pre></div></div></div></div></div>"
            ],
            "text/plain": [
              "BaggingClassifier(random_state=42)"
            ]
          },
          "execution_count": 20,
          "metadata": {},
          "output_type": "execute_result"
        }
      ],
      "source": [
        "# Create Bagging Classifier\n",
        "bag = BaggingClassifier(random_state=42)\n",
        "\n",
        "# Train Bagging Classifier\n",
        "bag.fit(X_train, y_train)"
      ]
    },
    {
      "cell_type": "code",
      "execution_count": null,
      "id": "c0205bef",
      "metadata": {
        "id": "c0205bef",
        "outputId": "65f2eb0d-a63e-4794-a6ad-d3aa9ff3aa6c"
      },
      "outputs": [
        {
          "name": "stdout",
          "output_type": "stream",
          "text": [
            "Bagging Classifier - Precision: 0.9991053730243654\n",
            "Bagging Classifier - Recall: 0.9996489750070205\n",
            "Bagging Classifier - Accuracy: 0.9993756924537924\n"
          ]
        }
      ],
      "source": [
        "# Make Predictions using BagClassifier on test data\n",
        "y_pred = bag.predict(X_test)\n",
        "\n",
        "# Calculate Precision, Recall, and Accuracy Scores\n",
        "bag_precision = precision_score(y_test, y_pred)\n",
        "bag_recall = recall_score(y_test, y_pred)\n",
        "bag_accuracy = accuracy_score(y_test, y_pred)\n",
        "\n",
        "print(f\"Bagging Classifier - Precision: {bag_precision}\")\n",
        "print(f\"Bagging Classifier - Recall: {bag_recall}\")\n",
        "print(f\"Bagging Classifier - Accuracy: {bag_accuracy}\")"
      ]
    },
    {
      "cell_type": "code",
      "execution_count": null,
      "id": "ebd6de16",
      "metadata": {
        "id": "ebd6de16",
        "outputId": "c3c9ae2e-0ca1-40a7-b24d-e47fde13af1d"
      },
      "outputs": [
        {
          "name": "stdout",
          "output_type": "stream",
          "text": [
            "Bagging misclassification rate: 0.06%\n"
          ]
        }
      ],
      "source": [
        "bag_misclass_rate = (1 - bag_accuracy)*100\n",
        "print(f\"Bagging misclassification rate: {bag_misclass_rate:.2f}%\")"
      ]
    },
    {
      "cell_type": "code",
      "execution_count": null,
      "id": "264500ba",
      "metadata": {
        "id": "264500ba",
        "outputId": "bb2ec0e9-8a2a-4517-e131-c01412e306e2"
      },
      "outputs": [
        {
          "data": {
            "text/plain": [
              "'\\n# Define the hyperparameter grid to search through (range 5 to 29)\\nparams = {\\'n_estimators\\': range(5, 30)}\\n\\n# Create GridSearchCV with 10-Fold CV\\ngrid_search = GridSearchCV(bag, params, cv=10, scoring=\\'accuracy\\')\\n\\n# Fit GridSearchCV to training data\\ngrid_search.fit(X_train, y_train)\\n\\n# Get best estimator with tuned paramters\\nbest_bag = grid_search.best_estimator_\\n\\n# Make predictions on training data\\ny_pred = best_bag.predict(X_test)\\n\\nbag_tuned_precision = precision_score(y_test, y_pred)\\nbag_tuned_recall = recall_score(y_test, y_pred)\\nbag_tuned_accuracy = accuracy_score(y_test, y_pred)\\n\\n# Store best performing # of estimators\\n#number = best_bag.n_estimators\\nbag_best_param = {\\'n_estimators\\': best_bag.n_estimators}\\n\\nprint(f\"Tuned Bagging Classifier - Precision: {bag_tuned_precision}\")\\nprint(f\"Tuned Bagging Classifier - Recall: {bag_tuned_recall}\")\\nprint(f\"Tuned Bagging Classifier - Accuracy: {bag_tuned_accuracy}\")\\nprint(bag_best_param)\\n'"
            ]
          },
          "execution_count": 31,
          "metadata": {},
          "output_type": "execute_result"
        }
      ],
      "source": [
        "\"\"\"\n",
        "# Define the hyperparameter grid to search through (range 5 to 29)\n",
        "params = {'n_estimators': range(5, 30)}\n",
        "\n",
        "# Create GridSearchCV with 10-Fold CV\n",
        "grid_search = GridSearchCV(bag, params, cv=10, scoring='accuracy')\n",
        "\n",
        "# Fit GridSearchCV to training data\n",
        "grid_search.fit(X_train, y_train)\n",
        "\n",
        "# Get best estimator with tuned paramters\n",
        "best_bag = grid_search.best_estimator_\n",
        "\n",
        "# Make predictions on training data\n",
        "y_pred = best_bag.predict(X_test)\n",
        "\n",
        "bag_tuned_precision = precision_score(y_test, y_pred)\n",
        "bag_tuned_recall = recall_score(y_test, y_pred)\n",
        "bag_tuned_accuracy = accuracy_score(y_test, y_pred)\n",
        "\n",
        "# Store best performing # of estimators\n",
        "#number = best_bag.n_estimators\n",
        "bag_best_param = {'n_estimators': best_bag.n_estimators}\n",
        "\n",
        "print(f\"Tuned Bagging Classifier - Precision: {bag_tuned_precision}\")\n",
        "print(f\"Tuned Bagging Classifier - Recall: {bag_tuned_recall}\")\n",
        "print(f\"Tuned Bagging Classifier - Accuracy: {bag_tuned_accuracy}\")\n",
        "print(bag_best_param)\n",
        "\"\"\""
      ]
    },
    {
      "cell_type": "code",
      "execution_count": null,
      "id": "77245f73",
      "metadata": {
        "id": "77245f73",
        "outputId": "d5fbd185-2766-48c1-bda6-364d63850467"
      },
      "outputs": [
        {
          "data": {
            "text/html": [
              "<style>#sk-container-id-2 {color: black;}#sk-container-id-2 pre{padding: 0;}#sk-container-id-2 div.sk-toggleable {background-color: white;}#sk-container-id-2 label.sk-toggleable__label {cursor: pointer;display: block;width: 100%;margin-bottom: 0;padding: 0.3em;box-sizing: border-box;text-align: center;}#sk-container-id-2 label.sk-toggleable__label-arrow:before {content: \"▸\";float: left;margin-right: 0.25em;color: #696969;}#sk-container-id-2 label.sk-toggleable__label-arrow:hover:before {color: black;}#sk-container-id-2 div.sk-estimator:hover label.sk-toggleable__label-arrow:before {color: black;}#sk-container-id-2 div.sk-toggleable__content {max-height: 0;max-width: 0;overflow: hidden;text-align: left;background-color: #f0f8ff;}#sk-container-id-2 div.sk-toggleable__content pre {margin: 0.2em;color: black;border-radius: 0.25em;background-color: #f0f8ff;}#sk-container-id-2 input.sk-toggleable__control:checked~div.sk-toggleable__content {max-height: 200px;max-width: 100%;overflow: auto;}#sk-container-id-2 input.sk-toggleable__control:checked~label.sk-toggleable__label-arrow:before {content: \"▾\";}#sk-container-id-2 div.sk-estimator input.sk-toggleable__control:checked~label.sk-toggleable__label {background-color: #d4ebff;}#sk-container-id-2 div.sk-label input.sk-toggleable__control:checked~label.sk-toggleable__label {background-color: #d4ebff;}#sk-container-id-2 input.sk-hidden--visually {border: 0;clip: rect(1px 1px 1px 1px);clip: rect(1px, 1px, 1px, 1px);height: 1px;margin: -1px;overflow: hidden;padding: 0;position: absolute;width: 1px;}#sk-container-id-2 div.sk-estimator {font-family: monospace;background-color: #f0f8ff;border: 1px dotted black;border-radius: 0.25em;box-sizing: border-box;margin-bottom: 0.5em;}#sk-container-id-2 div.sk-estimator:hover {background-color: #d4ebff;}#sk-container-id-2 div.sk-parallel-item::after {content: \"\";width: 100%;border-bottom: 1px solid gray;flex-grow: 1;}#sk-container-id-2 div.sk-label:hover label.sk-toggleable__label {background-color: #d4ebff;}#sk-container-id-2 div.sk-serial::before {content: \"\";position: absolute;border-left: 1px solid gray;box-sizing: border-box;top: 0;bottom: 0;left: 50%;z-index: 0;}#sk-container-id-2 div.sk-serial {display: flex;flex-direction: column;align-items: center;background-color: white;padding-right: 0.2em;padding-left: 0.2em;position: relative;}#sk-container-id-2 div.sk-item {position: relative;z-index: 1;}#sk-container-id-2 div.sk-parallel {display: flex;align-items: stretch;justify-content: center;background-color: white;position: relative;}#sk-container-id-2 div.sk-item::before, #sk-container-id-2 div.sk-parallel-item::before {content: \"\";position: absolute;border-left: 1px solid gray;box-sizing: border-box;top: 0;bottom: 0;left: 50%;z-index: -1;}#sk-container-id-2 div.sk-parallel-item {display: flex;flex-direction: column;z-index: 1;position: relative;background-color: white;}#sk-container-id-2 div.sk-parallel-item:first-child::after {align-self: flex-end;width: 50%;}#sk-container-id-2 div.sk-parallel-item:last-child::after {align-self: flex-start;width: 50%;}#sk-container-id-2 div.sk-parallel-item:only-child::after {width: 0;}#sk-container-id-2 div.sk-dashed-wrapped {border: 1px dashed gray;margin: 0 0.4em 0.5em 0.4em;box-sizing: border-box;padding-bottom: 0.4em;background-color: white;}#sk-container-id-2 div.sk-label label {font-family: monospace;font-weight: bold;display: inline-block;line-height: 1.2em;}#sk-container-id-2 div.sk-label-container {text-align: center;}#sk-container-id-2 div.sk-container {/* jupyter's `normalize.less` sets `[hidden] { display: none; }` but bootstrap.min.css set `[hidden] { display: none !important; }` so we also need the `!important` here to be able to override the default hidden behavior on the sphinx rendered scikit-learn.org. See: https://github.com/scikit-learn/scikit-learn/issues/21755 */display: inline-block !important;position: relative;}#sk-container-id-2 div.sk-text-repr-fallback {display: none;}</style><div id=\"sk-container-id-2\" class=\"sk-top-container\"><div class=\"sk-text-repr-fallback\"><pre>RandomForestClassifier()</pre><b>In a Jupyter environment, please rerun this cell to show the HTML representation or trust the notebook. <br />On GitHub, the HTML representation is unable to render, please try loading this page with nbviewer.org.</b></div><div class=\"sk-container\" hidden><div class=\"sk-item\"><div class=\"sk-estimator sk-toggleable\"><input class=\"sk-toggleable__control sk-hidden--visually\" id=\"sk-estimator-id-2\" type=\"checkbox\" checked><label for=\"sk-estimator-id-2\" class=\"sk-toggleable__label sk-toggleable__label-arrow\">RandomForestClassifier</label><div class=\"sk-toggleable__content\"><pre>RandomForestClassifier()</pre></div></div></div></div></div>"
            ],
            "text/plain": [
              "RandomForestClassifier()"
            ]
          },
          "execution_count": 32,
          "metadata": {},
          "output_type": "execute_result"
        }
      ],
      "source": [
        "# Create Random Forest Classifier\n",
        "rf = RandomForestClassifier()\n",
        "\n",
        "#Train rf classifier\n",
        "rf.fit(X_train, y_train)"
      ]
    },
    {
      "cell_type": "code",
      "execution_count": null,
      "id": "c70ffba1",
      "metadata": {
        "id": "c70ffba1",
        "outputId": "f11213aa-eba4-4b20-e231-e96e449832e5"
      },
      "outputs": [
        {
          "name": "stdout",
          "output_type": "stream",
          "text": [
            "RandomForest Classifier - Precision: 0.9997543428671697\n",
            "RandomForest Classifier - Recall: 1.0\n",
            "RandomForest Classifier - Accuracy: 0.9998768971035648\n"
          ]
        }
      ],
      "source": [
        "# Predict test outcomes using random forest classifier\n",
        "y_pred_rf = rf.predict(X_test)\n",
        "\n",
        "rf_precision = precision_score(y_test, y_pred_rf)\n",
        "rf_recall = recall_score(y_test, y_pred_rf)\n",
        "rf_accuracy = accuracy_score(y_test, y_pred_rf)\n",
        "\n",
        "print(f\"RandomForest Classifier - Precision: {rf_precision}\")\n",
        "print(f\"RandomForest Classifier - Recall: {rf_recall}\")\n",
        "print(f\"RandomForest Classifier - Accuracy: {rf_accuracy}\")"
      ]
    },
    {
      "cell_type": "code",
      "execution_count": null,
      "id": "113a59a9",
      "metadata": {
        "id": "113a59a9",
        "outputId": "bbcc2b88-f3a3-4551-836a-02d87f65277c"
      },
      "outputs": [
        {
          "name": "stdout",
          "output_type": "stream",
          "text": [
            "Random Forest misclassification rate: 0.01%\n"
          ]
        }
      ],
      "source": [
        "rf_misclass_rate = (1 - rf_accuracy)*100\n",
        "print(f\"Random Forest misclassification rate: {rf_misclass_rate:.2f}%\")"
      ]
    },
    {
      "cell_type": "code",
      "execution_count": null,
      "id": "17353873",
      "metadata": {
        "id": "17353873",
        "outputId": "6fb31636-ae44-47f5-d72f-817d4a4037e4"
      },
      "outputs": [
        {
          "name": "stdout",
          "output_type": "stream",
          "text": [
            "Feature V1: Importance = 0.0120\n",
            "Feature V2: Importance = 0.0326\n",
            "Feature V3: Importance = 0.0612\n",
            "Feature V4: Importance = 0.1463\n",
            "Feature V5: Importance = 0.0070\n",
            "Feature V6: Importance = 0.0068\n",
            "Feature V7: Importance = 0.0173\n",
            "Feature V8: Importance = 0.0108\n",
            "Feature V9: Importance = 0.0186\n",
            "Feature V10: Importance = 0.1262\n",
            "Feature V11: Importance = 0.0955\n",
            "Feature V12: Importance = 0.0714\n",
            "Feature V13: Importance = 0.0064\n",
            "Feature V14: Importance = 0.1842\n",
            "Feature V15: Importance = 0.0058\n",
            "Feature V16: Importance = 0.0538\n",
            "Feature V17: Importance = 0.0741\n",
            "Feature V18: Importance = 0.0068\n",
            "Feature V19: Importance = 0.0075\n",
            "Feature V20: Importance = 0.0057\n",
            "Feature V21: Importance = 0.0152\n",
            "Feature V22: Importance = 0.0041\n",
            "Feature V23: Importance = 0.0056\n",
            "Feature V24: Importance = 0.0043\n",
            "Feature V25: Importance = 0.0056\n",
            "Feature V26: Importance = 0.0057\n",
            "Feature V27: Importance = 0.0043\n",
            "Feature V28: Importance = 0.0055\n"
          ]
        }
      ],
      "source": [
        "# Access the feature importances\n",
        "feature_importances = rf.feature_importances_\n",
        "\n",
        "# Get the feature names from your dataset\n",
        "feature_names = X_train.columns\n",
        "\n",
        "# Print all features and their importances\n",
        "for feature_name, importance in zip(feature_names, feature_importances):\n",
        "    print(f\"Feature {feature_name}: Importance = {importance:.4f}\")"
      ]
    },
    {
      "cell_type": "code",
      "execution_count": 1,
      "id": "6454cc98",
      "metadata": {
        "id": "6454cc98",
        "outputId": "41930766-fada-4000-c102-1f611c32e180",
        "colab": {
          "base_uri": "https://localhost:8080/",
          "height": 122
        }
      },
      "outputs": [
        {
          "output_type": "execute_result",
          "data": {
            "text/plain": [
              "'\\n# Define our hyperparamters\\nparams = {\\'max_depth\\':range(3,20), # Range of tree depth\\n          \\'n_estimators\\':range(10,29) # Range of # of trees\\n         }\\n\\n# Create GridSearchCV for RandomForest Classifier with 10fold CV\\ngrid_search_rf = GridSearchCV(rf, params, cv=10, scoring=\\'accuracy\\')\\n\\n# Fit GridSearch with training data\\ngrid_search_rf.fit(X_train, y_train)\\n\\n# Get best estimators with tuned hyperparamters \\nbest_rf = grid_search_rf.best_estimator_\\n\\n# Make predictions using tuned rf classifier\\ny_pred = best_rf.predict(X_test)\\n\\nrf_tuned_precision = precision_score(y_test, y_pred)\\nrf_tuned_recall = recall_score(y_test, y_pred)\\nrf_tuned_accuracy = accuracy_score(y_test, y_pred)\\n\\nrf_tuned = {\\'max_depth\\': best_rf.max_depth, \\'n_estimators\\': best_rf.n_estimators}\\n\\nprint(f\"Tuned Random Forest - Accuracy: {rf_tuned_accuracy}\")\\nprint(f\"Tuned Random Forest - Recall: {rf_tuned_recall}\")\\nprint(f\"Tuned Random Forest - Precision: {rf_tuned_precision}\")\\n'"
            ],
            "application/vnd.google.colaboratory.intrinsic+json": {
              "type": "string"
            }
          },
          "metadata": {},
          "execution_count": 1
        }
      ],
      "source": [
        "\"\"\"\n",
        "# Define our hyperparamters\n",
        "params = {'max_depth':range(3,20), # Range of tree depth\n",
        "          'n_estimators':range(10,29) # Range of # of trees\n",
        "         }\n",
        "\n",
        "# Create GridSearchCV for RandomForest Classifier with 10fold CV\n",
        "grid_search_rf = GridSearchCV(rf, params, cv=10, scoring='accuracy')\n",
        "\n",
        "# Fit GridSearch with training data\n",
        "grid_search_rf.fit(X_train, y_train)\n",
        "\n",
        "# Get best estimators with tuned hyperparamters\n",
        "best_rf = grid_search_rf.best_estimator_\n",
        "\n",
        "# Make predictions using tuned rf classifier\n",
        "y_pred = best_rf.predict(X_test)\n",
        "\n",
        "rf_tuned_precision = precision_score(y_test, y_pred)\n",
        "rf_tuned_recall = recall_score(y_test, y_pred)\n",
        "rf_tuned_accuracy = accuracy_score(y_test, y_pred)\n",
        "\n",
        "rf_tuned = {'max_depth': best_rf.max_depth, 'n_estimators': best_rf.n_estimators}\n",
        "\n",
        "print(f\"Tuned Random Forest - Accuracy: {rf_tuned_accuracy}\")\n",
        "print(f\"Tuned Random Forest - Recall: {rf_tuned_recall}\")\n",
        "print(f\"Tuned Random Forest - Precision: {rf_tuned_precision}\")\n",
        "\"\"\""
      ]
    }
  ],
  "metadata": {
    "kernelspec": {
      "display_name": "Python 3 (ipykernel)",
      "language": "python",
      "name": "python3"
    },
    "language_info": {
      "codemirror_mode": {
        "name": "ipython",
        "version": 3
      },
      "file_extension": ".py",
      "mimetype": "text/x-python",
      "name": "python",
      "nbconvert_exporter": "python",
      "pygments_lexer": "ipython3",
      "version": "3.9.7"
    },
    "colab": {
      "provenance": [],
      "include_colab_link": true
    }
  },
  "nbformat": 4,
  "nbformat_minor": 5
}